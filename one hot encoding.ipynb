{
 "cells": [
  {
   "cell_type": "code",
   "execution_count": 21,
   "metadata": {
    "collapsed": true
   },
   "outputs": [],
   "source": [
    "import pandas as pd\n",
    "import numpy as np\n",
    "from numpy import array\n",
    "from numpy import argmax\n",
    "from sklearn.preprocessing import LabelEncoder\n",
    "from sklearn.preprocessing import OneHotEncoder"
   ]
  },
  {
   "cell_type": "code",
   "execution_count": 1,
   "metadata": {
    "collapsed": true
   },
   "outputs": [],
   "source": [
    "train_df = pd.read_csv(\"C:/Users/sravyay/Downloads/sample1.csv\")"
   ]
  },
  {
   "cell_type": "code",
   "execution_count": 22,
   "metadata": {},
   "outputs": [],
   "source": [
    "features = pd.get_dummies(train_df)\n",
    "labels = np.array(features['Label'])\n",
    "features= features.drop('Label', axis = 1)\n",
    "feature_list = list(features.columns)\n",
    "features = np.array(features)"
   ]
  },
  {
   "cell_type": "code",
   "execution_count": 23,
   "metadata": {
    "collapsed": true
   },
   "outputs": [],
   "source": [
    "from sklearn.model_selection import train_test_split\n",
    "train_features, test_features, train_labels, test_labels = train_test_split(features, labels, test_size = 0.25, random_state = 42)"
   ]
  },
  {
   "cell_type": "code",
   "execution_count": 24,
   "metadata": {},
   "outputs": [
    {
     "name": "stdout",
     "output_type": "stream",
     "text": [
      "('Training Features Shape:', (9L, 7L))\n",
      "('Training Labels Shape:', (9L,))\n",
      "('Testing Features Shape:', (4L, 7L))\n",
      "('Testing Labels Shape:', (4L,))\n"
     ]
    }
   ],
   "source": [
    "print('Training Features Shape:', train_features.shape)\n",
    "print('Training Labels Shape:', train_labels.shape)\n",
    "print('Testing Features Shape:', test_features.shape)\n",
    "print('Testing Labels Shape:', test_labels.shape)"
   ]
  },
  {
   "cell_type": "code",
   "execution_count": 25,
   "metadata": {},
   "outputs": [
    {
     "name": "stdout",
     "output_type": "stream",
     "text": [
      "('Mean Absolute Error:', 0.0, 'degrees.')\n",
      "('Accuracy:', 100.0, '%.')\n"
     ]
    }
   ],
   "source": [
    "from sklearn.ensemble import RandomForestRegressor\n",
    "rf = RandomForestRegressor(n_estimators = 1000, random_state = 42)\n",
    "rf.fit(train_features, train_labels)\n",
    "predictions = rf.predict(test_features)\n",
    "errors = abs(predictions - test_labels)\n",
    "print('Mean Absolute Error:', round(np.mean(errors), 2), 'degrees.')\n",
    "mape = 100 * (errors / test_labels)\n",
    "accuracy = 100 - np.mean(mape)\n",
    "print('Accuracy:', round(accuracy, 2), '%.')"
   ]
  },
  {
   "cell_type": "code",
   "execution_count": 2,
   "metadata": {
    "collapsed": true
   },
   "outputs": [],
   "source": [
    "train_data = train_df.values\n",
    "labels = []\n",
    "for i in train_data:\n",
    "    labels.append(i[1])"
   ]
  },
  {
   "cell_type": "code",
   "execution_count": 3,
   "metadata": {},
   "outputs": [
    {
     "name": "stdout",
     "output_type": "stream",
     "text": [
      "['UA1', 'UA2', 'HA1', 'HA1', 'HA1', 'HA1', 'HA1', 'HA2', 'HA2', 'HA2', 'HA2', 'HA2', 'CA1']\n"
     ]
    }
   ],
   "source": [
    "print(labels)"
   ]
  },
  {
   "cell_type": "code",
   "execution_count": 6,
   "metadata": {},
   "outputs": [
    {
     "name": "stdout",
     "output_type": "stream",
     "text": [
      "['UA1' 'UA2' 'HA1' 'HA1' 'HA1' 'HA1' 'HA1' 'HA2' 'HA2' 'HA2' 'HA2' 'HA2'\n",
      " 'CA1']\n",
      "[3 4 1 1 1 1 1 2 2 2 2 2 0]\n",
      "[[ 0.  0.  0.  1.  0.]\n",
      " [ 0.  0.  0.  0.  1.]\n",
      " [ 0.  1.  0.  0.  0.]\n",
      " [ 0.  1.  0.  0.  0.]\n",
      " [ 0.  1.  0.  0.  0.]\n",
      " [ 0.  1.  0.  0.  0.]\n",
      " [ 0.  1.  0.  0.  0.]\n",
      " [ 0.  0.  1.  0.  0.]\n",
      " [ 0.  0.  1.  0.  0.]\n",
      " [ 0.  0.  1.  0.  0.]\n",
      " [ 0.  0.  1.  0.  0.]\n",
      " [ 0.  0.  1.  0.  0.]\n",
      " [ 1.  0.  0.  0.  0.]]\n",
      "['UA1']\n"
     ]
    }
   ],
   "source": [
    "values = array(labels)\n",
    "print(values)\n",
    "\n",
    "label_encoder = LabelEncoder()\n",
    "integer_encoded = label_encoder.fit_transform(values)\n",
    "print(integer_encoded)\n",
    "\n",
    "onehot_encoder = OneHotEncoder(sparse=False)\n",
    "integer_encoded = integer_encoded.reshape(len(integer_encoded), 1)\n",
    "onehot_encoded = onehot_encoder.fit_transform(integer_encoded)\n",
    "print(onehot_encoded)\n",
    "\n",
    "#inverted = label_encoder.inverse_transform([argmax(onehot_encoded[0, :])])\n",
    "#print(inverted)"
   ]
  },
  {
   "cell_type": "code",
   "execution_count": 8,
   "metadata": {},
   "outputs": [
    {
     "name": "stdout",
     "output_type": "stream",
     "text": [
      "[ 0.  0.  0.  1.  0.]\n",
      "[ 0.  0.  0.  0.  1.]\n",
      "[ 0.  1.  0.  0.  0.]\n",
      "[ 0.  1.  0.  0.  0.]\n",
      "[ 0.  1.  0.  0.  0.]\n",
      "[ 0.  1.  0.  0.  0.]\n",
      "[ 0.  1.  0.  0.  0.]\n",
      "[ 0.  0.  1.  0.  0.]\n",
      "[ 0.  0.  1.  0.  0.]\n",
      "[ 0.  0.  1.  0.  0.]\n",
      "[ 0.  0.  1.  0.  0.]\n",
      "[ 0.  0.  1.  0.  0.]\n",
      "[ 1.  0.  0.  0.  0.]\n"
     ]
    }
   ],
   "source": [
    "for i in onehot_encoded:\n",
    "    print i"
   ]
  },
  {
   "cell_type": "code",
   "execution_count": 15,
   "metadata": {},
   "outputs": [
    {
     "name": "stdout",
     "output_type": "stream",
     "text": [
      "[[1200L, array([ 0.,  0.,  0.,  1.,  0.]), 1], [1210L, array([ 0.,  0.,  0.,  1.,  0.]), 1], [2400L, array([ 0.,  0.,  0.,  1.,  0.]), 1], [2410L, array([ 0.,  0.,  0.,  1.,  0.]), 1], [2420L, array([ 0.,  0.,  0.,  1.,  0.]), 1], [2430L, array([ 0.,  0.,  0.,  1.,  0.]), 1], [5000L, array([ 0.,  0.,  0.,  1.,  0.]), 1], [2400L, array([ 0.,  0.,  0.,  1.,  0.]), 1], [2410L, array([ 0.,  0.,  0.,  1.,  0.]), 1], [2420L, array([ 0.,  0.,  0.,  1.,  0.]), 1], [2430L, array([ 0.,  0.,  0.,  1.,  0.]), 1], [5000L, array([ 0.,  0.,  0.,  1.,  0.]), 1], [1800L, array([ 0.,  0.,  0.,  1.,  0.]), 1]]\n",
      "[1L, 1L, 1L, 1L, 1L, 1L, 1L, 1L, 1L, 1L, 1L, 1L, 1L]\n"
     ]
    }
   ],
   "source": [
    "train = []\n",
    "k = 0\n",
    "X = []\n",
    "Y = []\n",
    "for i in train_data:\n",
    "    if(i[2] == 'POD'):\n",
    "        i[2] = 0\n",
    "    else:\n",
    "        i[2] = 1\n",
    "    myarr=[i[0],onehot_encoded[k],i[2]]\n",
    "    X.append(myarr)\n",
    "    Y.append(i[3])\n",
    "print(X)\n",
    "print(Y)"
   ]
  },
  {
   "cell_type": "code",
   "execution_count": null,
   "metadata": {
    "collapsed": true
   },
   "outputs": [],
   "source": []
  }
 ],
 "metadata": {
  "kernelspec": {
   "display_name": "Python 2",
   "language": "python",
   "name": "python2"
  },
  "language_info": {
   "codemirror_mode": {
    "name": "ipython",
    "version": 2
   },
   "file_extension": ".py",
   "mimetype": "text/x-python",
   "name": "python",
   "nbconvert_exporter": "python",
   "pygments_lexer": "ipython2",
   "version": "2.7.13"
  }
 },
 "nbformat": 4,
 "nbformat_minor": 2
}
